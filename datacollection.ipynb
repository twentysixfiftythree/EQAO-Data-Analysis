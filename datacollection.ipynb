{
 "cells": [
  {
   "cell_type": "markdown",
   "id": "896e665f",
   "metadata": {},
   "source": [
    "# EQAO Grade 9 Math Results Analysis\n",
    "## EQAO Info\n",
    "EQAO is a yearly-run census-like test for Grades 3, 6 and 9 run by the Government of Ontario. The results of the students' scores are said to contribute to the growth of Ontario's curriculums.\n",
    "\n",
    "## Data Collection\n",
    "Unfortunately, the newest results, which are of most interest, are only made publicly available through a query on the EQAO website. I'd imagine that posting a spreadsheet with each of the school's results would be easier than an interactive website.\n",
    "The EQAO website is indexed using (\"https://www.eqao.com/report/?id=####\"). Iterating through each page that has the required data will be the method of data collection. \n",
    "### Features\n",
    "The following features of each page will be scraped:\n",
    "- The average achievement of each school\n",
    "- Total school enrolment\n",
    "- Number of students taking the test.\n",
    "- Town name (to cross reference)\n",
    "There are socio-economic factors that will be included that are not found on the indexing of the EQAO page. These will be scraped via another CSV file:\n",
    "- School's town's population\n",
    "- Poverty rate in the respective school's town\n"
   ]
  },
  {
   "cell_type": "markdown",
   "id": "548b2f60",
   "metadata": {},
   "source": [
    "## Imports\n"
   ]
  },
  {
   "cell_type": "code",
   "execution_count": 3,
   "id": "6e18ec48",
   "metadata": {},
   "outputs": [],
   "source": [
    "import requests\n",
    "from bs4 import BeautifulSoup\n",
    "import pandas as pd\n",
    "from numpy.random import randint\n",
    "### lxml is also installed from the bs4 library\n"
   ]
  },
  {
   "cell_type": "markdown",
   "id": "a6e958a6",
   "metadata": {},
   "source": [
    "The library requests will be used to access the webpages' data.\n",
    "\n",
    "BeautifulSoup will be used for parsing the HTML files that are grabbed by requests.\n",
    "\n",
    "Pandas will be used for organizing and analyzing the data."
   ]
  },
  {
   "cell_type": "markdown",
   "id": "fee0739a",
   "metadata": {},
   "source": [
    "## Collecting Data\n"
   ]
  },
  {
   "cell_type": "markdown",
   "id": "1045303c",
   "metadata": {},
   "source": [
    "### Functions and Boilerplate"
   ]
  },
  {
   "cell_type": "code",
   "execution_count": 22,
   "id": "32da100b",
   "metadata": {},
   "outputs": [],
   "source": [
    "headers = {\n",
    "    'User-Agent': 'Mozilla/5.0 (Windows NT 10.0; Win64; x64) AppleWebKit/537.36 (KHTML, like Gecko) Chrome/68.0.3440.84 Safari/537.36',\n",
    "    'accept': 'text/html,application/xhtml+xml,application/xml;q=0.9,image/webp,image/apng,*/*;q=0.8',\n",
    "}\n",
    "\n",
    "document = requests.get(\"https://www.eqao.com/report/?id=3838\", headers = headers)\n",
    "src = document.content\n",
    "soup = BeautifulSoup(src, \"html.parser\")"
   ]
  },
  {
   "cell_type": "markdown",
   "id": "61cc8e67",
   "metadata": {},
   "source": [
    "The grades are indexed using bar charts within \\<script> tags. The Javascript must be parsed manually, unfortunately. "
   ]
  },
  {
   "cell_type": "code",
   "execution_count": 23,
   "id": "abaff9f6",
   "metadata": {},
   "outputs": [],
   "source": [
    "def find_grades(source):\n",
    "    \"\"\"\n",
    "    Finds respective academic and applied averages from the EQAO website.\n",
    "    @param - source - a soup document to be examined\n",
    "    @return - a list with applied in 0th position and academic in 1st position\n",
    "    \"\"\"\n",
    "    all_scripts = source.find_all('script')\n",
    "    fall_grades = []\n",
    "    counter = 0\n",
    "\n",
    "    for script in all_scripts:\n",
    "        if 'drawBarChart([[\"Year Range\"' in script.text:\n",
    "            counter+=1\n",
    "            if counter == 1 or counter  == 2:\n",
    "                fall_grades.append(script.text)\n",
    "\n",
    "    scraped_grades = []\n",
    "    string_list = \"\"\n",
    "\n",
    "    for grades in fall_grades:\n",
    "        done = False\n",
    "        for i in range(0,len(grades)):\n",
    "            x = i\n",
    "            if grades[i] == 'P':\n",
    "                while done == False:\n",
    "                    if grades[x+12] == ',':\n",
    "                        scraped_grades.append((string_list))\n",
    "                        string_list = ''\n",
    "                        x+=1\n",
    "                        continue\n",
    "                    elif grades[x+12] == ']':\n",
    "                        scraped_grades.append((string_list))\n",
    "                        string_list = ''\n",
    "                        done = True\n",
    "                        continue\n",
    "                    string_list+=grades[x+12]\n",
    "                    x+=1\n",
    "    return [scraped_grades[2], scraped_grades[5]]\n"
   ]
  },
  {
   "cell_type": "code",
   "execution_count": 24,
   "id": "dc98767c",
   "metadata": {},
   "outputs": [
    {
     "name": "stdout",
     "output_type": "stream",
     "text": [
      "['0.69', '0.89']\n"
     ]
    }
   ],
   "source": [
    "all_grades = find_grades(soup)\n",
    "print(all_grades)"
   ]
  },
  {
   "cell_type": "markdown",
   "id": "54a0abd0",
   "metadata": {},
   "source": [
    "The school size is stored within a \\<div> tag. Unfortunately, other pieces of data are stored under the same div class, so the index of the specific div class had to be accessed."
   ]
  },
  {
   "cell_type": "code",
   "execution_count": 29,
   "id": "f9200d8c",
   "metadata": {},
   "outputs": [],
   "source": [
    "def find_pop(source):\n",
    "    \"\"\"\n",
    "    Finds population of the school from the given source/school page\n",
    "    @param - source - a soup\n",
    "    @return - the population of the school\"\"\"\n",
    "    elems = source.find(\"div\", {\"class\": \"basic-info\"}).find_all(\"div\", {\"class\": \"flex-table row\"})[5]\n",
    "    pop = elems.find_all(\"div\", {\"class\": \"flex-row\"})\n",
    "    pop = pop[1].text\n",
    "    return pop"
   ]
  },
  {
   "cell_type": "code",
   "execution_count": 30,
   "id": "06aba32e",
   "metadata": {},
   "outputs": [
    {
     "name": "stdout",
     "output_type": "stream",
     "text": [
      "808\n"
     ]
    }
   ],
   "source": [
    "school_size = find_pop(soup)\n",
    "print(school_size)"
   ]
  },
  {
   "cell_type": "markdown",
   "id": "225e779b",
   "metadata": {},
   "source": [
    "### Collecting the Proper Data\n",
    "Indexing on the EQAO website using the aforementioned URL method isn't as simple as it seems. Not every school has the exact information that is meant to be collected.\n",
    "\n",
    "Certain schools, particularly the Adult Learning Centres (places where people who haven't completed high school go to complete their credits), do not offer EQAO -- only OSSLT.\n",
    "\n",
    "With some testing, it became apparent that high schools only start to pop up around the 1300 mark, so the id iteration starts there."
   ]
  },
  {
   "cell_type": "code",
   "execution_count": null,
   "id": "73aad58b",
   "metadata": {},
   "outputs": [],
   "source": [
    "def create_data ():\n",
    "    large_data = []\n",
    "    for x in range(1300,10000):\n",
    "        document = requests.get(\"https://www.eqao.com/report/?id=\" + str(x), headers = headers).content\n",
    "        website = BeautifulSoup(document, \"lxml\")\n",
    "        if (\"Either the requested page\" in website.text or \"I Like to Write\" in website.text):\n",
    "            continue\n",
    "        else:\n",
    "            data = []\n",
    "            print(x)\n",
    "            data.append(find_school_name(website))\n",
    "            data.append(find_pop(website))\n",
    "            data.append(find_postal_town(website)[0])\n",
    "            data.append(find_postal_town(website)[1])\n",
    "            data.append(find_grades(website)[0])\n",
    "            data.append(find_grades(website)[1])\n",
    "            large_data.append(data)\n",
    "            print(large_data)\n",
    "    frame = pd.DataFrame(large_data, columns = ['School Name', 'School Size', 'Town Name', 'Postal Code', 'Applied EQAO Grades', 'Academic EQAO Grades'])\n",
    "    frame.to_csv('EQAODataset.csv')\n"
   ]
  },
  {
   "cell_type": "markdown",
   "id": "84bfd03d",
   "metadata": {},
   "source": [
    "As the scraper ran, it unexpectedly picked up some of the OSSLT-only schools. With some simple excel work, the aforementioned schools were removed.\n",
    "And so the data collection and cleaning is finished."
   ]
  },
  {
   "cell_type": "markdown",
   "id": "7eb130cf",
   "metadata": {},
   "source": [
    "### Data Cleaning\n",
    "As the scraper ran, it unexpectedly picked up some of the OSSLT-only schools, and some schools that only contain one of academic or applied marks. With some simple excel operations, the aforementioned schools were removed, for the purpose of comparative data analysis.\n",
    "\n",
    "The cleaned data should only contain schools that have both an academic and applied math class (most Ontario schools)."
   ]
  },
  {
   "cell_type": "code",
   "execution_count": 12,
   "id": "0e3859ea",
   "metadata": {},
   "outputs": [
    {
     "name": "stdout",
     "output_type": "stream",
     "text": [
      "                               School Name School Size      School Town  \\\n",
      "0                                  Ajax HS       1,137             Ajax   \n",
      "1                      Anderson C &amp; VI         866           Whitby   \n",
      "2                                 Brock HS         366       Cannington   \n",
      "3                      Donald A. Wilson SS       1,217           Whitby   \n",
      "4                             Dunbarton HS       1,465        Pickering   \n",
      "..                                     ...         ...              ...   \n",
      "470        École secondaire Roméo Dallaire         118           Barrie   \n",
      "471                   Superior Heights CVS         800  SaultSte. Marie   \n",
      "472  St. Michael Catholic Secondary School       1,194           Bolton   \n",
      "473          David Suzuki Secondary School       1,621         Brampton   \n",
      "474     Nottawasaga Pines Secondary School         735            Angus   \n",
      "\n",
      "    Postal Code  Applied EQAO Achievement  Academic EQAO Achievement  \n",
      "0       L1S 1P2                      0.34                       0.73  \n",
      "1       L1N 3V6                      0.35                       0.85  \n",
      "2       L0E 1E0                      0.47                       0.79  \n",
      "3       L1P 1Y1                      0.71                       0.90  \n",
      "4       L1V 1G2                      0.42                       0.84  \n",
      "..          ...                       ...                        ...  \n",
      "470     L4N 9E9                      0.73                       0.83  \n",
      "471     P6B 2C5                      0.31                       0.77  \n",
      "472     L7E 4G6                      0.50                       0.88  \n",
      "473     L6X 0Z3                      0.41                       0.80  \n",
      "474     L0M 1B1                      0.56                       0.79  \n",
      "\n",
      "[475 rows x 6 columns]\n"
     ]
    }
   ],
   "source": [
    "data = pd.read_csv(r'C:\\Users\\isaac\\Documents\\EQAO Data Analysis\\EQAODataset(only matches).csv')\n",
    "data.pop('id')\n",
    "print(data)"
   ]
  },
  {
   "cell_type": "markdown",
   "id": "2e658169",
   "metadata": {},
   "source": [
    "## Data Analysis\n",
    "Finding the average difference between applied EQAO scores and applied EQAO schools could show.."
   ]
  },
  {
   "cell_type": "code",
   "execution_count": 17,
   "id": "0a11d3c5",
   "metadata": {},
   "outputs": [
    {
     "name": "stdout",
     "output_type": "stream",
     "text": [
      "0.3555999999999998\n"
     ]
    }
   ],
   "source": [
    "data['Difference Academic Applied'] = data['Academic EQAO Achievement'] - data['Applied EQAO Achievement']\n",
    "print(data['Difference Academic Applied'].mean(axis = 0))"
   ]
  }
 ],
 "metadata": {
  "kernelspec": {
   "display_name": "Python 3 (ipykernel)",
   "language": "python",
   "name": "python3"
  },
  "language_info": {
   "codemirror_mode": {
    "name": "ipython",
    "version": 3
   },
   "file_extension": ".py",
   "mimetype": "text/x-python",
   "name": "python",
   "nbconvert_exporter": "python",
   "pygments_lexer": "ipython3",
   "version": "3.9.7"
  }
 },
 "nbformat": 4,
 "nbformat_minor": 5
}
